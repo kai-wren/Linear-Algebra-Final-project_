{
 "cells": [
  {
   "cell_type": "markdown",
   "metadata": {},
   "source": [
    "## Hi there!\n",
    "\n",
    "This notebook includes native implementation of REINFORCE algorithm. We compute gradients on our own, implement gradient descent and set the policy function. Used methods and functions differ from those, that we described in the report. This notebook is created to see that happens under the hood of REINFORCE. \n",
    "\n",
    "The code is based on: https://medium.com/samkirkiles/reinforce-policy-gradients-from-scratch-in-numpy-6a09ae0dfe12\n"
   ]
  },
  {
   "cell_type": "code",
   "execution_count": 271,
   "metadata": {},
   "outputs": [],
   "source": [
    "import gym\n",
    "import numpy as np\n",
    "import matplotlib.pyplot as plt\n",
    "import copy "
   ]
  },
  {
   "cell_type": "markdown",
   "metadata": {},
   "source": [
    "Set the hyperparameters for REINFORCE. Choose wisely:)"
   ]
  },
  {
   "cell_type": "code",
   "execution_count": 272,
   "metadata": {
    "colab": {},
    "colab_type": "code",
    "id": "JxKa2aK3QUnW"
   },
   "outputs": [],
   "source": [
    "#Hyperparameters\n",
    "NUM_EPISODES = 10000 # maximum number of episode\n",
    "LEARNING_RATE = 0.0005 # learning rate\n",
    "GAMMA = 0.99 # discount rate for discounted value function"
   ]
  },
  {
   "cell_type": "markdown",
   "metadata": {},
   "source": [
    "Ctrate the environment and investigate it"
   ]
  },
  {
   "cell_type": "code",
   "execution_count": 273,
   "metadata": {},
   "outputs": [],
   "source": [
    "# Create gym and seed numpy\n",
    "env = gym.make('CartPole-v0') # LunarLander-v2  # CartPole-v0\n",
    "nA = env.action_space.n\n",
    "np.random.seed(1)"
   ]
  },
  {
   "cell_type": "code",
   "execution_count": 274,
   "metadata": {
    "colab": {
     "base_uri": "https://localhost:8080/",
     "height": 34
    },
    "colab_type": "code",
    "id": "Lm4GlODUPE1j",
    "outputId": "fed42d08-b7e8-431a-94a9-489fd952435a",
    "scrolled": false
   },
   "outputs": [
    {
     "name": "stdout",
     "output_type": "stream",
     "text": [
      "Chosen environment has 4-shape states\n",
      "There is 2 possible actions to choose\n"
     ]
    }
   ],
   "source": [
    "print(\"Chosen environment has {}-shape states\".format(env.observation_space.shape[0]))\n",
    "print(\"There is {} possible actions to choose\".format(env.action_space.n))"
   ]
  },
  {
   "cell_type": "code",
   "execution_count": 275,
   "metadata": {},
   "outputs": [
    {
     "name": "stdout",
     "output_type": "stream",
     "text": [
      "The initail state is [0.03646576 0.01810739 0.0421362  0.04167161]\n"
     ]
    }
   ],
   "source": [
    "print(\"The initail state is {}\". format(env.reset()))"
   ]
  },
  {
   "cell_type": "markdown",
   "metadata": {},
   "source": [
    "Now we will intitialize the policy function - Softmax function. This function was chosen because it is easy to find the derivative analiticaly. If you are interested how to find derivative, there is a step-by-step explanation: https://eli.thegreenplace.net/2016/the-softmax-function-and-its-derivative/"
   ]
  },
  {
   "cell_type": "code",
   "execution_count": 276,
   "metadata": {},
   "outputs": [],
   "source": [
    "# Our policy that maps state to action parameterized by w\n",
    "def policy(state,w):\n",
    "    z = state.dot(w)\n",
    "    exp = np.exp(z)\n",
    "    return exp/np.sum(exp)\n",
    "\n",
    "# Vectorized softmax Jacobian\n",
    "def softmax_grad(softmax):\n",
    "    s = softmax.reshape(-1,1)\n",
    "    return np.diagflat(s) - np.dot(s, s.T)"
   ]
  },
  {
   "cell_type": "markdown",
   "metadata": {},
   "source": [
    "Before starting episode we need to initialize parameters $\\theta$."
   ]
  },
  {
   "cell_type": "code",
   "execution_count": 277,
   "metadata": {
    "colab": {
     "base_uri": "https://localhost:8080/",
     "height": 52
    },
    "colab_type": "code",
    "id": "z08LuCyvJM1K",
    "outputId": "ebe61e28-1afc-4e35-d469-a67828927519"
   },
   "outputs": [],
   "source": [
    "# Init weight\n",
    "w = np.random.rand(env.observation_space.shape[0], env.action_space.n)"
   ]
  },
  {
   "cell_type": "markdown",
   "metadata": {},
   "source": [
    "Now we run one step in the environment and see what are the variables."
   ]
  },
  {
   "cell_type": "code",
   "execution_count": 278,
   "metadata": {
    "colab": {},
    "colab_type": "code",
    "id": "Sv1ANqfpP692"
   },
   "outputs": [],
   "source": [
    "state = env.reset()[None,:] # reshape state\n",
    "probs = policy(state,w)  # find probabilities of do the action from policy \n",
    "action = np.random.choice(nA,p=probs[0])  # sample the action \n",
    "next_state,reward,done,_ = env.step(action)  # make the action in the environment and get the feedback\n",
    "next_state = next_state[None,:]  # reshape state\n",
    "\n",
    "# Compute gradient \n",
    "dsoftmax = softmax_grad(probs)[action,:]\n",
    "dlog = dsoftmax / probs[0,action]\n",
    "grad = state.T.dot(dlog[None,:])"
   ]
  },
  {
   "cell_type": "markdown",
   "metadata": {},
   "source": [
    "This is probabilities that was generated by policy"
   ]
  },
  {
   "cell_type": "code",
   "execution_count": 279,
   "metadata": {
    "colab": {
     "base_uri": "https://localhost:8080/",
     "height": 104
    },
    "colab_type": "code",
    "id": "I8vuTgI5JMt5",
    "outputId": "3c94b22c-3161-4371-be56-8f124a3c2b7c"
   },
   "outputs": [
    {
     "data": {
      "text/plain": [
       "array([[0.49531172, 0.50468828]])"
      ]
     },
     "execution_count": 279,
     "metadata": {},
     "output_type": "execute_result"
    }
   ],
   "source": [
    "probs"
   ]
  },
  {
   "cell_type": "markdown",
   "metadata": {},
   "source": [
    "The agent chooses this action"
   ]
  },
  {
   "cell_type": "code",
   "execution_count": 280,
   "metadata": {},
   "outputs": [
    {
     "data": {
      "text/plain": [
       "0"
      ]
     },
     "execution_count": 280,
     "metadata": {},
     "output_type": "execute_result"
    }
   ],
   "source": [
    "action"
   ]
  },
  {
   "cell_type": "markdown",
   "metadata": {},
   "source": [
    "The environment put us in a new state"
   ]
  },
  {
   "cell_type": "code",
   "execution_count": 281,
   "metadata": {
    "colab": {
     "base_uri": "https://localhost:8080/",
     "height": 34
    },
    "colab_type": "code",
    "id": "F--CheA5QsrD",
    "outputId": "dc2179b2-90cf-4758-d823-95715a161f39",
    "scrolled": true
   },
   "outputs": [
    {
     "data": {
      "text/plain": [
       "array([[ 0.00880941,  0.03585422, -0.00822777,  0.03012052]])"
      ]
     },
     "execution_count": 281,
     "metadata": {},
     "output_type": "execute_result"
    }
   ],
   "source": [
    "state"
   ]
  },
  {
   "cell_type": "markdown",
   "metadata": {},
   "source": [
    "And gave reward to agent (or not)"
   ]
  },
  {
   "cell_type": "code",
   "execution_count": 282,
   "metadata": {},
   "outputs": [
    {
     "data": {
      "text/plain": [
       "1.0"
      ]
     },
     "execution_count": 282,
     "metadata": {},
     "output_type": "execute_result"
    }
   ],
   "source": [
    "reward"
   ]
  },
  {
   "cell_type": "markdown",
   "metadata": {},
   "source": [
    "And we computed such gradient (Jacobian)"
   ]
  },
  {
   "cell_type": "code",
   "execution_count": 283,
   "metadata": {
    "colab": {
     "base_uri": "https://localhost:8080/",
     "height": 104
    },
    "colab_type": "code",
    "id": "rRWlRZL9JMq_",
    "outputId": "3a17a0af-acc0-4ca9-ea62-72d6fb68bb1f"
   },
   "outputs": [
    {
     "data": {
      "text/plain": [
       "array([[ 0.00444601, -0.00444601],\n",
       "       [ 0.01809521, -0.01809521],\n",
       "       [-0.00415246,  0.00415246],\n",
       "       [ 0.01520147, -0.01520147]])"
      ]
     },
     "execution_count": 283,
     "metadata": {},
     "output_type": "execute_result"
    }
   ],
   "source": [
    "grad"
   ]
  },
  {
   "cell_type": "markdown",
   "metadata": {},
   "source": [
    "### Now it is time to run the learning! \n",
    "\n",
    "We initialize all the variables again. Note:\n",
    "\n",
    "1. The process ends whan: \n",
    "\n",
    "    (a) we reach the maximum of episodes\n",
    "    \n",
    "    (b) mean of the last 100 episode rewards is more than 200 (you can change this parameter accoding to your preferences)\n",
    "    \n",
    "2. At first we run all the steps of the episode, remember the results. When the episode ends, we recompute the weights."
   ]
  },
  {
   "cell_type": "markdown",
   "metadata": {},
   "source": [
    "By default maximum steps is set. You can change it if you want"
   ]
  },
  {
   "cell_type": "code",
   "execution_count": 284,
   "metadata": {},
   "outputs": [
    {
     "data": {
      "text/plain": [
       "200"
      ]
     },
     "execution_count": 284,
     "metadata": {},
     "output_type": "execute_result"
    }
   ],
   "source": [
    "env._max_episode_steps"
   ]
  },
  {
   "cell_type": "code",
   "execution_count": 285,
   "metadata": {
    "colab": {},
    "colab_type": "code",
    "id": "jZNcmIfTF2BM",
    "scrolled": true
   },
   "outputs": [],
   "source": [
    "# Init weight\n",
    "w = np.random.rand(env.observation_space.shape[0], env.action_space.n)\n",
    "\n",
    "# Keep rewards for final plot of convergence\n",
    "episode_rewards = []\n",
    "\n",
    "# Count the steps that was made in all the episodes\n",
    "count_steps = 0\n",
    "for e in range(NUM_EPISODES):\n",
    "    state = env.reset()[None,:]\n",
    "    \n",
    "    # For each episode we need to remember the gradients and rewards that was found on each step \n",
    "    grads = []\n",
    "    rewards = []\n",
    "    \n",
    "    # Keep track of game score to print\n",
    "    score = 0\n",
    "    while True:\n",
    "        count_steps += 1\n",
    "        \n",
    "        # Uncomment to see your model train in real time (slower)\n",
    "        #env.render()\n",
    "        \n",
    "        # Make the step as we did earlier\n",
    "        probs = policy(state,w)\n",
    "        action = np.random.choice(nA,p=probs[0])\n",
    "        next_state,reward,done,_ = env.step(action)\n",
    "        next_state = next_state[None,:]\n",
    "\n",
    "        dsoftmax = softmax_grad(probs)[action,:]\n",
    "        dlog = dsoftmax / probs[0,action]\n",
    "        grad = state.T.dot(dlog[None,:])\n",
    "\n",
    "        # Remember the results\n",
    "        grads.append(grad)\n",
    "        rewards.append(reward)\n",
    "        score+=reward\n",
    "\n",
    "        # Dont forget to update your old state to the new state\n",
    "        state = next_state\n",
    "        if done:\n",
    "            break\n",
    "            \n",
    "    # Weight update after the episode\n",
    "    for i in range(len(grads)):\n",
    "\n",
    "        # Loop through everything that happend in the episode and update towards the log policy gradient times **FUTURE** reward\n",
    "        w += LEARNING_RATE * grads[i] * sum([ r * (GAMMA ** r) for t,r in enumerate(rewards[i:])])\n",
    "\n",
    "    # Append for logging and print\n",
    "    episode_rewards.append(score)\n",
    "    # check if the process converged\n",
    "    if np.mean(episode_rewards[-100:]) >= 195:\n",
    "        break\n",
    "    \n",
    "    # Uncomment to see printed rewards on each episode\n",
    "    #print(\"EP: \" + str(e) + \" Score: \" + str(score)) "
   ]
  },
  {
   "cell_type": "code",
   "execution_count": 286,
   "metadata": {
    "scrolled": true
   },
   "outputs": [
    {
     "data": {
      "text/plain": [
       "76962"
      ]
     },
     "execution_count": 286,
     "metadata": {},
     "output_type": "execute_result"
    }
   ],
   "source": [
    "# total number of steps\n",
    "count_steps"
   ]
  },
  {
   "cell_type": "markdown",
   "metadata": {},
   "source": [
    "Draw the results"
   ]
  },
  {
   "cell_type": "code",
   "execution_count": 287,
   "metadata": {
    "colab": {
     "base_uri": "https://localhost:8080/",
     "height": 483
    },
    "colab_type": "code",
    "id": "3CIAeG2UG9Pb",
    "outputId": "9254a114-4fd4-409a-a9bb-20b3c636fb1c",
    "scrolled": false
   },
   "outputs": [
    {
     "data": {
      "image/png": "[encoded data removed]",
      "text/plain": [
       "<Figure size 1080x576 with 1 Axes>"
      ]
     },
     "metadata": {
      "needs_background": "light"
     },
     "output_type": "display_data"
    }
   ],
   "source": [
    "from scipy.signal import savgol_filter # to smooth the rewards\n",
    "\n",
    "plt.figure(figsize = (15,8))\n",
    "plt.plot(np.arange(e+1),savgol_filter(episode_rewards, 51, 3))\n",
    "plt.xlabel(\"Episode\")\n",
    "plt.ylabel(\"Reward\")\n",
    "plt.show()"
   ]
  },
  {
   "cell_type": "code",
   "execution_count": 288,
   "metadata": {},
   "outputs": [],
   "source": [
    "# close the environment \n",
    "env.close()"
   ]
  },
  {
   "cell_type": "code",
   "execution_count": null,
   "metadata": {},
   "outputs": [],
   "source": []
  }
 ],
 "metadata": {
  "colab": {
   "collapsed_sections": [],
   "name": "Algebra Project.ipynb",
   "provenance": []
  },
  "kernelspec": {
   "display_name": "Python 3",
   "language": "python",
   "name": "python3"
  },
  "language_info": {
   "codemirror_mode": {
    "name": "ipython",
    "version": 3
   },
   "file_extension": ".py",
   "mimetype": "text/x-python",
   "name": "python",
   "nbconvert_exporter": "python",
   "pygments_lexer": "ipython3",
   "version": "3.6.9"
  }
 },
 "nbformat": 4,
 "nbformat_minor": 1
}
